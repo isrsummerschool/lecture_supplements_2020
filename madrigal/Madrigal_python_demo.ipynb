{
 "cells": [
  {
   "cell_type": "markdown",
   "metadata": {},
   "source": [
    "<h2>An introduction to using python to access Madrigal data (madrigalWeb)</h2>"
   ]
  },
  {
   "cell_type": "markdown",
   "metadata": {},
   "source": [
    "#### This notebook available at http://www.haystack.mit.edu/~brideout/Madrigal_python_demo.ipynb\n",
    "\n",
    "To download the latest Python Madrigal API, go to http://cedar.openmadrigal.org/madrigalDownload/, or use pip:\n",
    "\n",
    "<pre>pip install madrigalWeb</pre>\n",
    "\n",
    "This module should work with either python 2 or python 3.\n",
    "\n",
    "Then feel free to follow along with this talk!\n",
    "\n",
    "Url of  Madrigal CEDAR database: http://cedar.openmadrigal.org\n",
    "\n",
    "Online resources: <a href=\"http://cedar.openmadrigal.org/docs/name/rt_python.html\">Tutorial</a> and <a href=\"http://http://cedar.openmadrigal.org/docs/name/rr_python.html\">Reference</a>\n",
    "\n",
    "Any questions: Email me (Bill Rideout) at <a href=\"mailto:brideout@mit.edu\">brideout@haystack.mit.edu</a>"
   ]
  },
  {
   "cell_type": "code",
   "execution_count": 1,
   "metadata": {},
   "outputs": [],
   "source": [
    "import madrigalWeb.madrigalWeb"
   ]
  },
  {
   "cell_type": "markdown",
   "metadata": {},
   "source": [
    "The next command connects to one particular Madrigal site, and creates an object we will use for the rest of the session."
   ]
  },
  {
   "cell_type": "code",
   "execution_count": 2,
   "metadata": {},
   "outputs": [],
   "source": [
    "madDB = madrigalWeb.madrigalWeb.MadrigalData('http://cedar.openmadrigal.org')"
   ]
  },
  {
   "cell_type": "markdown",
   "metadata": {},
   "source": [
    "The top level of metadata at any site is the instruments it has available. This next method lists the available instruments."
   ]
  },
  {
   "cell_type": "code",
   "execution_count": 3,
   "metadata": {},
   "outputs": [],
   "source": [
    "instList = madDB.getAllInstruments()"
   ]
  },
  {
   "cell_type": "code",
   "execution_count": 4,
   "metadata": {},
   "outputs": [
    {
     "name": "stdout",
     "output_type": "stream",
     "text": [
      "name: Millstone Hill IS Radar\n",
      "code: 30\n",
      "mnemonic: mlh\n",
      "latitude: 42.619\n",
      "longitude: 288.51\n",
      "altitude: 0.146\n",
      "category: Incoherent Scatter Radars\n",
      "\n"
     ]
    }
   ],
   "source": [
    "print(instList[7])"
   ]
  },
  {
   "cell_type": "markdown",
   "metadata": {},
   "source": [
    "Note that the code associated with the Millstone Hill IS Radar is 30 (not related to its position in the list, which may change).  Also refered to as the kinst.  This will be used throughout the rest of the calls to refer to this instrument.\n",
    "\n",
    "The next call gets all the experiments with that instrument over the date range of January 2016:"
   ]
  },
  {
   "cell_type": "code",
   "execution_count": 5,
   "metadata": {},
   "outputs": [],
   "source": [
    "exps = madDB.getExperiments(30, 2016,1,1,0,0,0,2016,2,1,0,0,0)"
   ]
  },
  {
   "cell_type": "code",
   "execution_count": 6,
   "metadata": {},
   "outputs": [
    {
     "name": "stdout",
     "output_type": "stream",
     "text": [
      "id: 100174066\n",
      "realUrl: http://cedar.openmadrigal.org/showExperiment/?experiment_list=100174066\n",
      "url: http://cedar.openmadrigal.org/madtoc/experiments/2016/mlh/07jan16\n",
      "name: Repeatable Calibration\n",
      "siteid: 10\n",
      "sitename: CEDAR\n",
      "instcode: 30\n",
      "instname: Millstone Hill IS Radar\n",
      "startyear: 2016\n",
      "startmonth: 1\n",
      "startday: 7\n",
      "starthour: 15\n",
      "startmin: 37\n",
      "startsec: 48\n",
      "endyear: 2016\n",
      "endmonth: 1\n",
      "endday: 7\n",
      "endhour: 20\n",
      "endmin: 55\n",
      "endsec: 31\n",
      "isLocal: True\n",
      "madrigalUrl: http://cedar.openmadrigal.org/\n",
      "PI: Phil Erickson\n",
      "PIEmail: perickson@haystack.mit.edu\n",
      "uttimestamp: 1566865148\n",
      "access: 2\n",
      "Madrigal version: 3.0\n",
      "\n"
     ]
    }
   ],
   "source": [
    "print(exps[0])"
   ]
  },
  {
   "cell_type": "code",
   "execution_count": 7,
   "metadata": {},
   "outputs": [
    {
     "data": {
      "text/plain": [
       "7"
      ]
     },
     "execution_count": 7,
     "metadata": {},
     "output_type": "execute_result"
    }
   ],
   "source": [
    "len(exps)"
   ]
  },
  {
   "cell_type": "markdown",
   "metadata": {},
   "source": [
    "The next call gets all the files in that experiment.  An experiment may contain different types of data, as will be described in the kind of data description (kindatdesc):"
   ]
  },
  {
   "cell_type": "code",
   "execution_count": 8,
   "metadata": {},
   "outputs": [],
   "source": [
    "files = madDB.getExperimentFiles(exps[0].id)"
   ]
  },
  {
   "cell_type": "code",
   "execution_count": 9,
   "metadata": {},
   "outputs": [
    {
     "name": "stdout",
     "output_type": "stream",
     "text": [
      "name: /opt/madrigal3/experiments/2016/mlh/07jan16/mlh160107g.007.hdf5\n",
      "kindat: 3410\n",
      "kindatdesc: Combined basic parameters file - all antennas and modes\n",
      "category: 1\n",
      "status: Final\n",
      "permission: 0\n",
      "expId: 100174066\n",
      "doi: https://w3id.org/cedar?experiment_list=experiments/2016/mlh/07jan16&file_list=mlh160107g.007.hdf5\n",
      "\n"
     ]
    }
   ],
   "source": [
    "print(files[0])"
   ]
  },
  {
   "cell_type": "markdown",
   "metadata": {},
   "source": [
    "As a simple example, let's just download this data as is.  You could also filter the data, add derived parameters, and select the parameters you want using other calls.  \n",
    "\n",
    "Because Madrigal is not login controlled, logging is done by you passing in unverified identification information - your name, email, and affiliation.  Below I set up my personal info - <b>please change this to yours when you use this API!</b>"
   ]
  },
  {
   "cell_type": "code",
   "execution_count": 10,
   "metadata": {},
   "outputs": [],
   "source": [
    "user_fullname = 'Student Example' \n",
    "user_email = 'isr.summer.school@gmail.com' \n",
    "user_affiliation= 'ISR Summer School 2020'"
   ]
  },
  {
   "cell_type": "code",
   "execution_count": 11,
   "metadata": {},
   "outputs": [],
   "source": [
    "madDB.downloadFile(files[0].name, '/tmp/test.hdf5', user_fullname, user_email, user_affiliation, format='hdf5')"
   ]
  },
  {
   "cell_type": "markdown",
   "metadata": {},
   "source": [
    "Now let's say I wanted to know what parameters were in this file.  You can get that from the API also:"
   ]
  },
  {
   "cell_type": "code",
   "execution_count": 12,
   "metadata": {},
   "outputs": [],
   "source": [
    "parms = madDB.getExperimentFileParameters(files[0].name)"
   ]
  },
  {
   "cell_type": "code",
   "execution_count": 13,
   "metadata": {},
   "outputs": [
    {
     "name": "stdout",
     "output_type": "stream",
     "text": [
      "mnemonic: DVTX\n",
      "description: Error in Transmitter phase velocity\n",
      "isError: 1\n",
      "units: m/s\n",
      "isMeasured: 1\n",
      "category: I. S. Radar Operation Parameter\n",
      "isSure: 1\n",
      "isAddIncrement: -1\n",
      "\n"
     ]
    }
   ],
   "source": [
    "print(parms[25])"
   ]
  },
  {
   "cell_type": "markdown",
   "metadata": {
    "collapsed": true
   },
   "source": [
    "In the next command we are going to download data from that file with the parameters we select, and the filters we want to remove unwanted data.  A list of all valid CEDAR Madrigal parameters can be found at http://madrigal3.haystack.mit.edu/parameterMetadata/.  A description of how to write filter strings are at http://madrigal3.haystack.mit.edu/filterMetadata/ ."
   ]
  },
  {
   "cell_type": "markdown",
   "metadata": {},
   "source": [
    "In this example, we will choose the parameters YEAR,MONTH,DAY,HOUR,MIN,SEC,AZM,ELM,RANGE,GDALT,GLON,GDALT,TI,DTI. The filters will limit gdalt to between 200 and 300, and we will only look at data where DTI < 10 degrees. Our filter string is then \"filter=gdalt,200,300 filter=dti,,10\" The blank in dti means no lower limit."
   ]
  },
  {
   "cell_type": "code",
   "execution_count": 14,
   "metadata": {},
   "outputs": [],
   "source": [
    "filterStr=\"filter=gdalt,200,300 filter=dti,,10\"\n",
    "parms = \"YEAR,MONTH,DAY,HOUR,MIN,SEC,AZM,ELM,RANGE,GDALT,GLON,GDALT,TI,DTI\"\n",
    "result = madDB.isprint(files[0].name, parms, filterStr, user_fullname, user_email, user_affiliation)"
   ]
  },
  {
   "cell_type": "code",
   "execution_count": 15,
   "metadata": {},
   "outputs": [
    {
     "name": "stdout",
     "output_type": "stream",
     "text": [
      "     2016         1         7        15        39        48    178.00      88.00     231.56     231.54     -71.49      929.0        7.0  \n",
      "     2016         1         7        15        39        48    178.00      88.00     249.55     249.52     -71.49      907.0        4.0  \n",
      "     2016         1         7        15        39        48    178.00      88.00     267.53     267.49     -71.49      905.0        5.0  \n",
      "     2016         1         7        15        39        48    178.00      88.00     285.52     285.47     -71.49      897.0        5.0  \n",
      "     2016         1         7        15        44         3    178.13      88.02     267.30     267.26     -71.49      889.0        2.0  \n"
     ]
    }
   ],
   "source": [
    "lines = result.split('\\n')\n",
    "for line in lines[:5]:\n",
    "    print(line)"
   ]
  }
 ],
 "metadata": {
  "kernelspec": {
   "display_name": "Python 3",
   "language": "python",
   "name": "python3"
  },
  "language_info": {
   "codemirror_mode": {
    "name": "ipython",
    "version": 3
   },
   "file_extension": ".py",
   "mimetype": "text/x-python",
   "name": "python",
   "nbconvert_exporter": "python",
   "pygments_lexer": "ipython3",
   "version": "3.7.6"
  }
 },
 "nbformat": 4,
 "nbformat_minor": 1
}
