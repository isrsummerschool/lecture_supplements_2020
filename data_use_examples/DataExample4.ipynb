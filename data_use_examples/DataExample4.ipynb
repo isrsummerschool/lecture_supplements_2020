{
 "cells": [
  {
   "cell_type": "code",
   "execution_count": 1,
   "metadata": {},
   "outputs": [],
   "source": [
    "import datetime\n",
    "import matplotlib.pyplot as plt\n",
    "import matplotlib.dates as mdates\n",
    "import madrigalWeb.madrigalWeb\n",
    "import re\n",
    "import h5py\n",
    "import numpy as np"
   ]
  },
  {
   "cell_type": "code",
   "execution_count": 2,
   "metadata": {},
   "outputs": [],
   "source": [
    "#CHANGE ME\n",
    "user_fullname = \"Student Example\"\n",
    "user_email = \"isr.summer.school@gmail.com\"\n",
    "user_affiliation = \"ISR Summer School 2020\"\n",
    "\n",
    "maddat = madrigalWeb.madrigalWeb.MadrigalData('http://cedar.openmadrigal.org/')"
   ]
  },
  {
   "cell_type": "code",
   "execution_count": 3,
   "metadata": {},
   "outputs": [],
   "source": [
    "#instrument codes for AMISR\n",
    "instcodes={'PFISR':61,\n",
    "          'RISR-N':91,\n",
    "          'RISR-C':92}"
   ]
  },
  {
   "cell_type": "code",
   "execution_count": 4,
   "metadata": {},
   "outputs": [
    {
     "name": "stdout",
     "output_type": "stream",
     "text": [
      "id: 100060015\n",
      "realUrl: http://cedar.openmadrigal.org/showExperiment/?experiment_list=100060015\n",
      "url: http://cedar.openmadrigal.org/madtoc/experiments/2012/pfa/01nov12c\n",
      "name: IPY27 - Long duration measurements in support of the International Polar Year\n",
      "siteid: 10\n",
      "sitename: CEDAR\n",
      "instcode: 61\n",
      "instname: Poker Flat IS Radar\n",
      "startyear: 2012\n",
      "startmonth: 11\n",
      "startday: 1\n",
      "starthour: 7\n",
      "startmin: 40\n",
      "startsec: 37\n",
      "endyear: 2012\n",
      "endmonth: 11\n",
      "endday: 1\n",
      "endhour: 18\n",
      "endmin: 25\n",
      "endsec: 20\n",
      "isLocal: True\n",
      "madrigalUrl: http://cedar.openmadrigal.org/\n",
      "PI: Roger Varney\n",
      "PIEmail: roger.varney@sri.com\n",
      "uttimestamp: 1543545557\n",
      "access: 2\n",
      "Madrigal version: 3.0\n",
      "\n"
     ]
    }
   ],
   "source": [
    "#start time\n",
    "st=datetime.datetime(2012, 11, 1, 13,0)\n",
    "et=datetime.datetime(2012, 11, 1, 15,0)\n",
    "\n",
    "expList = maddat.getExperiments(instcodes['PFISR'], st.year, st.month, st.day, st.hour, st.minute, st.second, et.year, et.month, et.day, et.hour, et.minute, et.second)\n",
    "for exp in expList:\n",
    "    print(exp)"
   ]
  },
  {
   "cell_type": "code",
   "execution_count": 5,
   "metadata": {},
   "outputs": [],
   "source": [
    "fileList = maddat.getExperimentFiles(expList[0].id)\n",
    "acfile=None\n",
    "for file in fileList:\n",
    "    if re.match('Alternating Code \\(AC16-30\\)',file.kindatdesc):\n",
    "        acfile=file\n",
    "        \n",
    "filename=acfile.name\n",
    "outfilename=acfile.name.split('/')[-1]\n",
    "result = maddat.downloadFile(filename,outfilename, user_fullname, user_email, user_affiliation, 'hdf5')"
   ]
  },
  {
   "cell_type": "code",
   "execution_count": 6,
   "metadata": {},
   "outputs": [],
   "source": [
    "with h5py.File(outfilename,'r') as f:\n",
    "    PFISR_data = []\n",
    "    for dat in f['Data/Array Layout'].values():\n",
    "        outdct={}\n",
    "        outdct['bid'] = dat['1D Parameters/beamid'][0]\n",
    "        outdct['azm'] = dat['1D Parameters/azm'][0]\n",
    "        outdct['elm'] = dat['1D Parameters/elm'][0]\n",
    "        outdct['ne'] = 10**(dat['2D Parameters/nel'][:])\n",
    "        outdct['dne'] = 10**(dat['2D Parameters/dnel'][:])\n",
    "        outdct['te'] = dat['2D Parameters/te'][:]\n",
    "        outdct['dte'] = dat['2D Parameters/dte'][:]\n",
    "        outdct['ti'] = dat['2D Parameters/ti'][:]\n",
    "        outdct['dti'] = dat['2D Parameters/dti'][:]\n",
    "        outdct['vo'] = dat['2D Parameters/vo'][:]\n",
    "        outdct['dvo'] = dat['2D Parameters/dvo'][:]\n",
    "        \n",
    "        outdct['range'] = dat['range'][:]\n",
    "        outdct['altitude'] = outdct['range']/np.sin(np.radians(outdct['elm']))\n",
    "        tstmp = dat['timestamps'][:]\n",
    "        outdct['time'] = [datetime.datetime.utcfromtimestamp(t) for t in tstmp]\n",
    "        PFISR_data.append(outdct)"
   ]
  },
  {
   "cell_type": "code",
   "execution_count": 7,
   "metadata": {},
   "outputs": [
    {
     "name": "stdout",
     "output_type": "stream",
     "text": [
      "64016.0 14.04 90.0\n",
      "64157.0 -154.3 77.5\n",
      "64964.0 -34.69 66.09\n",
      "65066.0 75.03 65.56\n"
     ]
    }
   ],
   "source": [
    "for i,d in enumerate(PFISR_data):\n",
    "    print(d['bid'],d['azm'],d['elm'])"
   ]
  },
  {
   "cell_type": "code",
   "execution_count": 8,
   "metadata": {},
   "outputs": [],
   "source": [
    "#find the up-B beam\n",
    "bind=0\n",
    "for i,d in enumerate(PFISR_data):\n",
    "    if d['elm']==77.5:\n",
    "        bind=i\n",
    "bdat=PFISR_data[bind]"
   ]
  },
  {
   "cell_type": "code",
   "execution_count": null,
   "metadata": {},
   "outputs": [],
   "source": [
    "plt.rcParams['figure.figsize']=10,10\n",
    "plt.rcParams['font.size']=18\n",
    "fig,ax=plt.subplots(1,1)\n",
    "clrs = ax.pcolormesh(mdates.date2num(bdat['time']),bdat['altitude'],bdat['ne'],vmin=0,vmax=1.2e12)\n",
    "\n",
    "ax.set_xlim([mdates.date2num(datetime.datetime(2012,11,1,8,0,0)),mdates.date2num(datetime.datetime(2012,11,1,19,0,0))])\n",
    "ax.set_xticks(np.arange(mdates.date2num(datetime.datetime(2012,11,1,8,0,0)),mdates.date2num(datetime.datetime(2012,11,1,20,0,0)),1.0001/24.0))\n",
    "ax.set_ylim([80,350])\n",
    "\n",
    "ax.xaxis.set_major_formatter(mdates.DateFormatter('%H'))\n",
    "ax.set_xlabel('UT')\n",
    "ax.set_ylabel('Altitude (km)')\n",
    "ax.set_title('Alternating Code Ne on 2012-11-01')\n",
    "\n",
    "box=ax.get_position()\n",
    "cbarax=fig.add_axes([box.x0+box.width+0.01, box.y0, 0.025, box.height])\n",
    "cb=plt.colorbar(clrs,cax=cbarax)\n",
    "cb.set_label('Ne (m^-3)')"
   ]
  },
  {
   "cell_type": "markdown",
   "metadata": {},
   "source": [
    "Hint: SuperMAG includes 2012-11-01 13:52:00 UTC in one of their lists of special times\n",
    "\n",
    "Also, the Poker Flat all sky camera is spectacular on this night.\n",
    "http://optics.gi.alaska.edu/realtime/data/MPEG/PKR_DASC_256/2012/PKR_DASC_20121101_rgb.mpg"
   ]
  }
 ],
 "metadata": {
  "kernelspec": {
   "display_name": "Python 3",
   "language": "python",
   "name": "python3"
  },
  "language_info": {
   "codemirror_mode": {
    "name": "ipython",
    "version": 3
   },
   "file_extension": ".py",
   "mimetype": "text/x-python",
   "name": "python",
   "nbconvert_exporter": "python",
   "pygments_lexer": "ipython3",
   "version": "3.7.6"
  }
 },
 "nbformat": 4,
 "nbformat_minor": 2
}
