{
 "cells": [
  {
   "cell_type": "code",
   "execution_count": 1,
   "metadata": {},
   "outputs": [],
   "source": [
    "import datetime\n",
    "import matplotlib.pyplot as plt\n",
    "import matplotlib.dates as mdates\n",
    "import madrigalWeb.madrigalWeb\n",
    "import re\n",
    "import h5py\n",
    "import numpy as np"
   ]
  },
  {
   "cell_type": "code",
   "execution_count": 2,
   "metadata": {},
   "outputs": [],
   "source": [
    "#CHANGE ME\n",
    "user_fullname = \"Roger Varney\"\n",
    "user_email = \"roger.varney@sri.com\"\n",
    "user_affiliation = \"SRI International\"\n",
    "\n",
    "maddat = madrigalWeb.madrigalWeb.MadrigalData('http://cedar.openmadrigal.org/')"
   ]
  },
  {
   "cell_type": "code",
   "execution_count": 3,
   "metadata": {},
   "outputs": [],
   "source": [
    "#instrument codes for AMISR\n",
    "instcodes={'PFISR':61,\n",
    "          'RISR-N':91,\n",
    "          'RISR-C':92}"
   ]
  },
  {
   "cell_type": "code",
   "execution_count": 4,
   "metadata": {},
   "outputs": [
    {
     "name": "stdout",
     "output_type": "stream",
     "text": [
      "id: 100170700\n",
      "realUrl: http://cedar.openmadrigal.org/showExperiment/?experiment_list=100170700\n",
      "url: http://cedar.openmadrigal.org/madtoc/experiments3/2018/pfa/21dec18h\n",
      "name: IPY27_Tracking_v03 - Long duration measurements in support of the International Polar Year\n",
      "siteid: 10\n",
      "sitename: CEDAR\n",
      "instcode: 61\n",
      "instname: Poker Flat IS Radar\n",
      "startyear: 2018\n",
      "startmonth: 12\n",
      "startday: 21\n",
      "starthour: 14\n",
      "startmin: 1\n",
      "startsec: 1\n",
      "endyear: 2018\n",
      "endmonth: 12\n",
      "endday: 22\n",
      "endhour: 4\n",
      "endmin: 20\n",
      "endsec: 4\n",
      "isLocal: True\n",
      "madrigalUrl: http://cedar.openmadrigal.org/\n",
      "PI: Roger Varney\n",
      "PIEmail: roger.varney@sri.com\n",
      "uttimestamp: 1550715266\n",
      "access: 0\n",
      "Madrigal version: 3.0\n",
      "\n",
      "id: 100170719\n",
      "realUrl: http://cedar.openmadrigal.org/showExperiment/?experiment_list=100170719\n",
      "url: http://cedar.openmadrigal.org/madtoc/experiments3/2018/pfa/22dec18a\n",
      "name: MSWinds26.v03 - D-region E-region F-region local measurements\n",
      "siteid: 10\n",
      "sitename: CEDAR\n",
      "instcode: 61\n",
      "instname: Poker Flat IS Radar\n",
      "startyear: 2018\n",
      "startmonth: 12\n",
      "startday: 22\n",
      "starthour: 4\n",
      "startmin: 20\n",
      "startsec: 48\n",
      "endyear: 2018\n",
      "endmonth: 12\n",
      "endday: 22\n",
      "endhour: 7\n",
      "endmin: 0\n",
      "endsec: 4\n",
      "isLocal: True\n",
      "madrigalUrl: http://cedar.openmadrigal.org/\n",
      "PI: Roger Varney\n",
      "PIEmail: roger.varney@sri.com\n",
      "uttimestamp: 1550715474\n",
      "access: 0\n",
      "Madrigal version: 3.0\n",
      "\n",
      "id: 100170888\n",
      "realUrl: http://cedar.openmadrigal.org/showExperiment/?experiment_list=100170888\n",
      "url: http://cedar.openmadrigal.org/madtoc/experiments3/2018/pfa/22dec18b\n",
      "name: IPY27_Tracking_v03 - Long duration measurements in support of the International Polar Year\n",
      "siteid: 10\n",
      "sitename: CEDAR\n",
      "instcode: 61\n",
      "instname: Poker Flat IS Radar\n",
      "startyear: 2018\n",
      "startmonth: 12\n",
      "startday: 22\n",
      "starthour: 7\n",
      "startmin: 1\n",
      "startsec: 30\n",
      "endyear: 2018\n",
      "endmonth: 12\n",
      "endday: 22\n",
      "endhour: 10\n",
      "endmin: 28\n",
      "endsec: 4\n",
      "isLocal: True\n",
      "madrigalUrl: http://cedar.openmadrigal.org/\n",
      "PI: Roger Varney\n",
      "PIEmail: roger.varney@sri.com\n",
      "uttimestamp: 1550715572\n",
      "access: 0\n",
      "Madrigal version: 3.0\n",
      "\n",
      "id: 100171225\n",
      "realUrl: http://cedar.openmadrigal.org/showExperiment/?experiment_list=100171225\n",
      "url: http://cedar.openmadrigal.org/madtoc/experiments3/2018/pfa/22dec18g\n",
      "name: IPY27_Tracking_v03 - Long duration measurements in support of the International Polar Year\n",
      "siteid: 10\n",
      "sitename: CEDAR\n",
      "instcode: 61\n",
      "instname: Poker Flat IS Radar\n",
      "startyear: 2018\n",
      "startmonth: 12\n",
      "startday: 22\n",
      "starthour: 11\n",
      "startmin: 38\n",
      "startsec: 2\n",
      "endyear: 2018\n",
      "endmonth: 12\n",
      "endday: 22\n",
      "endhour: 18\n",
      "endmin: 0\n",
      "endsec: 4\n",
      "isLocal: True\n",
      "madrigalUrl: http://cedar.openmadrigal.org/\n",
      "PI: Roger Varney\n",
      "PIEmail: roger.varney@sri.com\n",
      "uttimestamp: 1550715687\n",
      "access: 0\n",
      "Madrigal version: 3.0\n",
      "\n",
      "id: 100171026\n",
      "realUrl: http://cedar.openmadrigal.org/showExperiment/?experiment_list=100171026\n",
      "url: http://cedar.openmadrigal.org/madtoc/experiments3/2018/pfa/22dec18h\n",
      "name: PLCal30 - Plasma line calibration run\n",
      "siteid: 10\n",
      "sitename: CEDAR\n",
      "instcode: 61\n",
      "instname: Poker Flat IS Radar\n",
      "startyear: 2018\n",
      "startmonth: 12\n",
      "startday: 22\n",
      "starthour: 18\n",
      "startmin: 0\n",
      "startsec: 49\n",
      "endyear: 2018\n",
      "endmonth: 12\n",
      "endday: 23\n",
      "endhour: 0\n",
      "endmin: 0\n",
      "endsec: 4\n",
      "isLocal: True\n",
      "madrigalUrl: http://cedar.openmadrigal.org/\n",
      "PI: Roger Varney\n",
      "PIEmail: roger.varney@sri.com\n",
      "uttimestamp: 1547618631\n",
      "access: 0\n",
      "Madrigal version: 3.0\n",
      "\n"
     ]
    }
   ],
   "source": [
    "#start time\n",
    "st=datetime.datetime(2018,12,22,0,0,0)\n",
    "et=datetime.datetime(2018,12,23,0,0,0)\n",
    "expList = maddat.getExperiments(instcodes['PFISR'], st.year, st.month, st.day, st.hour, st.minute, st.second, et.year, et.month, et.day, et.hour, et.minute, et.second)\n",
    "for exp in expList:\n",
    "    print(exp)"
   ]
  },
  {
   "cell_type": "code",
   "execution_count": 5,
   "metadata": {},
   "outputs": [
    {
     "name": "stdout",
     "output_type": "stream",
     "text": [
      "id: 100171026\n",
      "realUrl: http://cedar.openmadrigal.org/showExperiment/?experiment_list=100171026\n",
      "url: http://cedar.openmadrigal.org/madtoc/experiments3/2018/pfa/22dec18h\n",
      "name: PLCal30 - Plasma line calibration run\n",
      "siteid: 10\n",
      "sitename: CEDAR\n",
      "instcode: 61\n",
      "instname: Poker Flat IS Radar\n",
      "startyear: 2018\n",
      "startmonth: 12\n",
      "startday: 22\n",
      "starthour: 18\n",
      "startmin: 0\n",
      "startsec: 49\n",
      "endyear: 2018\n",
      "endmonth: 12\n",
      "endday: 23\n",
      "endhour: 0\n",
      "endmin: 0\n",
      "endsec: 4\n",
      "isLocal: True\n",
      "madrigalUrl: http://cedar.openmadrigal.org/\n",
      "PI: Roger Varney\n",
      "PIEmail: roger.varney@sri.com\n",
      "uttimestamp: 1547618631\n",
      "access: 0\n",
      "Madrigal version: 3.0\n",
      "\n"
     ]
    }
   ],
   "source": [
    "print(expList[4])"
   ]
  },
  {
   "cell_type": "code",
   "execution_count": 6,
   "metadata": {},
   "outputs": [],
   "source": [
    "fileList = maddat.getExperimentFiles(expList[4].id)\n",
    "lpfile=None\n",
    "for file in fileList:\n",
    "    if re.match('Long Pulse Uncorrected Ne',file.kindatdesc):\n",
    "        lpfile=file\n",
    "        \n",
    "filename=lpfile.name\n",
    "outfilename=lpfile.name.split('/')[-1]\n",
    "result = maddat.downloadFile(filename, outfilename, user_fullname, user_email, user_affiliation, 'hdf5')"
   ]
  },
  {
   "cell_type": "code",
   "execution_count": 7,
   "metadata": {},
   "outputs": [],
   "source": [
    "with h5py.File(outfilename,'r') as f:\n",
    "    PFISR_data = []\n",
    "    for dat in f['Data/Array Layout'].values():\n",
    "        outdct={}\n",
    "        outdct['bid'] = dat['1D Parameters/beamid'][0]\n",
    "        outdct['azm'] = dat['1D Parameters/azm'][0]\n",
    "        outdct['elm'] = dat['1D Parameters/elm'][0]\n",
    "        outdct['ne'] = 10**(dat['2D Parameters/popl'][:])\n",
    "        outdct['dne'] = 10**(dat['2D Parameters/dpopl'][:])\n",
    "        \n",
    "        outdct['range'] = dat['range'][:]\n",
    "        outdct['altitude'] = outdct['range']/np.sin(np.radians(outdct['elm']))\n",
    "        tstmp = dat['timestamps'][:]\n",
    "        outdct['time'] = [datetime.datetime.utcfromtimestamp(t) for t in tstmp]\n",
    "        PFISR_data.append(outdct)"
   ]
  },
  {
   "cell_type": "code",
   "execution_count": 8,
   "metadata": {},
   "outputs": [
    {
     "name": "stdout",
     "output_type": "stream",
     "text": [
      "64016.0 14.04 90.0\n",
      "64112.0 -154.3 84.5\n",
      "64124.0 -154.3 80.5\n",
      "64157.0 -154.3 77.5\n",
      "64982.0 15.0 74.0\n",
      "65162.0 15.0 83.0\n"
     ]
    }
   ],
   "source": [
    "for i,d in enumerate(PFISR_data):\n",
    "    print(d['bid'],d['azm'],d['elm'])"
   ]
  },
  {
   "cell_type": "code",
   "execution_count": 9,
   "metadata": {},
   "outputs": [],
   "source": [
    "#find the vertical beam\n",
    "bind=0\n",
    "for i,d in enumerate(PFISR_data):\n",
    "    if d['elm']==90.0:\n",
    "        bind=i\n",
    "bdat=PFISR_data[bind]"
   ]
  },
  {
   "cell_type": "code",
   "execution_count": 10,
   "metadata": {},
   "outputs": [
    {
     "data": {
      "image/png": "[encoded data removed]",
      "text/plain": [
       "<Figure size 720x720 with 2 Axes>"
      ]
     },
     "metadata": {
      "needs_background": "light"
     },
     "output_type": "display_data"
    }
   ],
   "source": [
    "plt.rcParams['figure.figsize']=10,10\n",
    "plt.rcParams['font.size']=18\n",
    "fig,ax=plt.subplots(1,1)\n",
    "clrs = ax.pcolormesh(mdates.date2num(bdat['time']),bdat['altitude'],bdat['ne'],vmin=0,vmax=2e11)\n",
    "\n",
    "ax.set_ylim([100,400])\n",
    "\n",
    "ax.xaxis.set_major_formatter(mdates.DateFormatter('%H'))\n",
    "ax.set_xlabel('UT')\n",
    "ax.set_ylabel('Altitude (km)')\n",
    "ax.set_title('Long Pulse Uncorrected Ne on 2018-12-22')\n",
    "\n",
    "box=ax.get_position()\n",
    "cbarax=fig.add_axes([box.x0+box.width+0.01, box.y0, 0.025, box.height])\n",
    "cb=plt.colorbar(clrs,cax=cbarax)\n",
    "cb.set_label('Ne (m^-3)')"
   ]
  },
  {
   "cell_type": "code",
   "execution_count": null,
   "metadata": {},
   "outputs": [],
   "source": []
  }
 ],
 "metadata": {
  "kernelspec": {
   "display_name": "Python 3",
   "language": "python",
   "name": "python3"
  },
  "language_info": {
   "codemirror_mode": {
    "name": "ipython",
    "version": 3
   },
   "file_extension": ".py",
   "mimetype": "text/x-python",
   "name": "python",
   "nbconvert_exporter": "python",
   "pygments_lexer": "ipython3",
   "version": "3.6.8"
  }
 },
 "nbformat": 4,
 "nbformat_minor": 2
}
