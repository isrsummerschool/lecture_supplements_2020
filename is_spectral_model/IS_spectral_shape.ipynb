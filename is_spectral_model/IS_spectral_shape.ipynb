{
 "cells": [
  {
   "cell_type": "code",
   "execution_count": 1,
   "metadata": {},
   "outputs": [],
   "source": [
    "import ipywidgets as widgets\n",
    "from ipywidgets import interact_manual, fixed\n",
    "import numpy\n",
    "import pylab as plt"
   ]
  },
  {
   "cell_type": "code",
   "execution_count": 2,
   "metadata": {},
   "outputs": [],
   "source": [
    "def plot_is_spec_and_acf(indict, ne, te, ti, frac_2, vi, tau_max, freq_max):\n",
    "    \"\"\"\n",
    "    Plot incoherent scatter power spectrum and ACF given input plasma parameters.\n",
    "    \n",
    "    indict: Dictionary of input parameters\n",
    "    ne: electron density, m^-3\n",
    "    te: electron temperature, K\n",
    "    ti: ion temperature, K\n",
    "    frac_2: fraction of ion #2\n",
    "    vi: line-of-sight velocity, m/s\n",
    "    tau_max: maximum lag for ACF plot, sec\n",
    "    freq_max: maximum frequency for spectral plot, Hz \"\"\"\n",
    "    \n",
    "    import ismodel\n",
    "    \n",
    "    cspec = ismodel.ISspec(indict, \n",
    "                           emode=[1,1,1],  # On: Magnetic field, Coulomb collisions, BGK ion-neutral collisions\n",
    "                           imode=[1,1,1],  # On: Magnetic field, Coulomb collisions, BGK ion-neutral collisions\n",
    "                           Nfreq=127,      # number of points in power spectrum\n",
    "                           czparams=(1e-6,2e5,100,10,1.0)) # Gordeyev integral parameters (leave unaltered)\n",
    "\n",
    "    # adjust for desired parameters\n",
    "    adjdict = {'ne':ne,\n",
    "               'te':te,\n",
    "               'ti':ti*numpy.ones(2),\n",
    "               've':vi,\n",
    "               'vi':vi*numpy.ones(2),\n",
    "               'ni':numpy.array([1.0-frac_2,frac_2])}\n",
    "    cspec.adjustParams(adjdict)\n",
    "\n",
    "    # compute spectrum, ACF\n",
    "    ff,spec,tau,acf = cspec.computeSpec()\n",
    "    \n",
    "    # plot it\n",
    "    f, ax = plt.subplots(1,2,figsize=(12,6))\n",
    "    \n",
    "    # power spectrum vs frequency\n",
    "    ax[0].plot(ff/1e3, spec, 'k')\n",
    "    ax[0].set_xlim(-freq_max/1e3,freq_max/1e3)\n",
    "    ax[0].set_xlabel('Frequency (kHz)')\n",
    "    ax[0].set_ylabel('Power Spectrum')\n",
    "    ax[0].set_title('Mi = %s AMU  %% = %s' % (str(indict['mi']), str(adjdict['ni'])))\n",
    "    ax[0].grid()\n",
    "    \n",
    "    # Real, imag part of ACF vs lag (tau)\n",
    "    # Only plot 1/4 of the positive half of the ACF;\n",
    "    # zero lag is 1/2 way into the ACF array (starts with most negative lag)\n",
    "    tau0 = int(acf.shape[0]/2)\n",
    "    tau1 = tau0 + int(acf.shape[0]/4)\n",
    "    ax[1].plot(tau[tau0:tau1]*1e6, acf[tau0:tau1].real, 'r', label='Real')\n",
    "    ax[1].plot(tau[tau0:tau1]*1e6, acf[tau0:tau1].imag, 'b', label='Imag')\n",
    "    ax[1].grid()\n",
    "    ax[1].set_xlim(0,tau_max*1e6)\n",
    "    ax[1].set_xlabel('Lag Time (usec)')\n",
    "    ax[1].set_ylabel('ACF')\n",
    "    ax[1].legend()\n",
    "    plt.show()"
   ]
  },
  {
   "cell_type": "code",
   "execution_count": 3,
   "metadata": {},
   "outputs": [
    {
     "data": {
      "application/vnd.jupyter.widget-view+json": {
       "model_id": "f848c55e4b234cd49ecaa5bb726639fb",
       "version_major": 2,
       "version_minor": 0
      },
      "text/plain": [
       "interactive(children=(FloatLogSlider(value=100000000000.0, description='ne', max=12.0, min=11.0), FloatSlider(…"
      ]
     },
     "metadata": {},
     "output_type": "display_data"
    }
   ],
   "source": [
    "# set fixed parameters\n",
    "indict={'Nion': 2, # number of ions \\\n",
    "      'mi': numpy.array([16, 30]), # list of ion masses, AMU \\\n",
    "      'B': 5e-5, # backgrond magnetic field, Tesla \\\n",
    "      'f0': 449.3e6, # radar frequency, Hz \\\n",
    "      'te': 1000.0, # electron temperature, K \\\n",
    "      'alpha': 60.0, # angle between look direction and magnetic field, deg (90 = perp to B) \\\n",
    "      'ne': 1e11, # electron density, m^-3 \\\n",
    "      'ti': numpy.array([1000.0, 1000.0]), # ion temperature, K \\\n",
    "      'ni': numpy.array([1.0, 0.0]), # list of ion fractions (sum must = 1) \\\n",
    "      've': 0.0, # electron velocity, m/s \\\n",
    "      'vi': numpy.array([0.0, 0.0]), # ion velocity, m/s \\\n",
    "      'nuen': 0.0, # electron-neutral collision frequency, Hz \\\n",
    "      'nuin': numpy.array([0.0, 0.0]) # ion-neutral collision frequency, Hz \\\n",
    "       }\n",
    "\n",
    "# make interactive plot\n",
    "p = interact_manual(plot_is_spec_and_acf, \n",
    "             indict=fixed(indict),\n",
    "             te=widgets.FloatSlider(1000,min=250,max=3000,step=50),\n",
    "             ti=widgets.FloatSlider(1000,min=250,max=3000,step=50),\n",
    "             ne=widgets.FloatLogSlider(1e11,base=10,min=11,max=12,step=0.1),\n",
    "             vi=widgets.FloatSlider(0.0,min=0.0,max=1000.0,step=50),\n",
    "             frac_2=widgets.FloatSlider(0.0,min=0.0,max=1.0,step=0.1),\n",
    "             tau_max=fixed(500e-6),\n",
    "             freq_max=fixed(10e3))"
   ]
  },
  {
   "cell_type": "code",
   "execution_count": null,
   "metadata": {},
   "outputs": [],
   "source": []
  }
 ],
 "metadata": {
  "kernelspec": {
   "display_name": "Python 3",
   "language": "python",
   "name": "python3"
  },
  "language_info": {
   "codemirror_mode": {
    "name": "ipython",
    "version": 3
   },
   "file_extension": ".py",
   "mimetype": "text/x-python",
   "name": "python",
   "nbconvert_exporter": "python",
   "pygments_lexer": "ipython3",
   "version": "3.8.2"
  }
 },
 "nbformat": 4,
 "nbformat_minor": 4
}
